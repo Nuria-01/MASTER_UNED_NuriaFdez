{
  "nbformat": 4,
  "nbformat_minor": 0,
  "metadata": {
    "colab": {
      "provenance": [],
      "gpuType": "T4"
    },
    "kernelspec": {
      "name": "python3",
      "display_name": "Python 3"
    },
    "language_info": {
      "name": "python"
    },
    "accelerator": "GPU"
  },
  "cells": [
    {
      "cell_type": "markdown",
      "source": [
        "# Modelo de scoring para predecir el riesgo de impago en clientes financieros\n",
        "**Trabajo de Fin de Máster**\n",
        "\n",
        "*Autora: Nuria Fernández Rodríguez*\n",
        "\n",
        "*Tutores:*"
      ],
      "metadata": {
        "id": "RZ-iFPPah7J5"
      }
    },
    {
      "cell_type": "markdown",
      "source": [
        "## Introducción"
      ],
      "metadata": {
        "id": "fU1ACKyGief1"
      }
    },
    {
      "cell_type": "markdown",
      "source": [
        "## Descripción del Dataset"
      ],
      "metadata": {
        "id": "8X_gtwhTirtR"
      }
    },
    {
      "cell_type": "markdown",
      "source": [
        "Nuestro dataset contiene información de pagos predetermiandos, factores demográficos, datos de créditos, historial de pagos, y extratos de facturas de tarjetas de crédito de clientes en Taiwan desde Abril de 2005 hasta Septiembre de 2005.\n",
        "\n",
        "### Contenido\n",
        "Hay 25 variables:\n",
        "\n",
        "* `ID`: ID of each client\n",
        "\n",
        "* `LIMIT_BAL`: Amount of given credit in NT dollars (includes individual and family/supplementary credit\n",
        "\n",
        "* `SEX`: Gender (1=male, 2=female)\n",
        "\n",
        "* `EDUCATION`: (1=graduate school, 2=university, 3=high school, 4=others, 5=unknown, 6=unknown)\n",
        "\n",
        "* `MARRIAGE`: Marital status (1=married, 2=single, 3=others)\n",
        "\n",
        "* `AGE`: Age in years\n",
        "\n",
        "* `PAY_0`: Repayment status in September, 2005 (-1=pay duly, 1=payment delay for one month, 2=payment delay for two months, … 8=payment delay for eight months, 9=payment delay for nine months and above)\n",
        "\n",
        "* `PAY_2`: Repayment status in August, 2005 (scale same as above)\n",
        "\n",
        "* `PAY_3`: Repayment status in July, 2005 (scale same as above)\n",
        "\n",
        "* `PAY_4`: Repayment status in June, 2005 (scale same as above)\n",
        "\n",
        "* `PAY_5`: Repayment status in May, 2005 (scale same as above)\n",
        "\n",
        "* `PAY_6`: Repayment status in April, 2005 (scale same as above)\n",
        "\n",
        "* `BILL_AMT1`: Amount of bill statement in September, 2005 (NT dollar)\n",
        "\n",
        "* `BILL_AMT2`: Amount of bill statement in August, 2005 (NT dollar)\n",
        "\n",
        "* `BILL_AMT3`: Amount of bill statement in July, 2005 (NT dollar)\n",
        "\n",
        "* `BILL_AMT4`: Amount of bill statement in June, 2005 (NT dollar)\n",
        "\n",
        "* `BILL_AMT5`: Amount of bill statement in May, 2005 (NT dollar)\n",
        "\n",
        "* `BILL_AMT6`: Amount of bill statement in April, 2005 (NT dollar)\n",
        "\n",
        "* `PAY_AMT1`: Amount of previous payment in September, 2005 (NT dollar)\n",
        "\n",
        "* `PAY_AMT2`: Amount of previous payment in August, 2005 (NT dollar)\n",
        "\n",
        "* `PAY_AMT3`: Amount of previous payment in July, 2005 (NT dollar)\n",
        "\n",
        "* `PAY_AMT4`: Amount of previous payment in June, 2005 (NT dollar)\n",
        "\n",
        "* `PAY_AMT5`: Amount of previous payment in May, 2005 (NT dollar)\n",
        "\n",
        "* `PAY_AMT6`: Amount of previous payment in April, 2005 (NT dollar)\n",
        "default.payment.next.month: Default payment (1=yes, 0=no)"
      ],
      "metadata": {
        "id": "6NVG3wlbk42M"
      }
    },
    {
      "cell_type": "markdown",
      "source": [
        "Vamos a empezar leyendo el dataset con **pandas** y ver qué forma tiene:"
      ],
      "metadata": {
        "id": "0Sc6BQPxnMr3"
      }
    },
    {
      "cell_type": "code",
      "source": [
        "# Primero, los imports\n",
        "import numpy as np\n",
        "import pandas as pd"
      ],
      "metadata": {
        "id": "5LTt3msZnV3d"
      },
      "execution_count": 1,
      "outputs": []
    },
    {
      "cell_type": "code",
      "source": [
        "# Leemos el archivo\n",
        "df = pd.read_csv( '/content/default of credit card clients.csv', sep = ';')\n",
        "df.info()"
      ],
      "metadata": {
        "colab": {
          "base_uri": "https://localhost:8080/"
        },
        "id": "ImdQH0Zsnbl9",
        "outputId": "f43b1dfe-b14f-4ad8-b119-0bf4a260f6cf"
      },
      "execution_count": 2,
      "outputs": [
        {
          "output_type": "stream",
          "name": "stdout",
          "text": [
            "<class 'pandas.core.frame.DataFrame'>\n",
            "RangeIndex: 30001 entries, 0 to 30000\n",
            "Data columns (total 25 columns):\n",
            " #   Column      Non-Null Count  Dtype \n",
            "---  ------      --------------  ----- \n",
            " 0   Unnamed: 0  30001 non-null  object\n",
            " 1   X1          30001 non-null  object\n",
            " 2   X2          30001 non-null  object\n",
            " 3   X3          30001 non-null  object\n",
            " 4   X4          30001 non-null  object\n",
            " 5   X5          30001 non-null  object\n",
            " 6   X6          30001 non-null  object\n",
            " 7   X7          30001 non-null  object\n",
            " 8   X8          30001 non-null  object\n",
            " 9   X9          30001 non-null  object\n",
            " 10  X10         30001 non-null  object\n",
            " 11  X11         30001 non-null  object\n",
            " 12  X12         30001 non-null  object\n",
            " 13  X13         30001 non-null  object\n",
            " 14  X14         30001 non-null  object\n",
            " 15  X15         30001 non-null  object\n",
            " 16  X16         30001 non-null  object\n",
            " 17  X17         30001 non-null  object\n",
            " 18  X18         30001 non-null  object\n",
            " 19  X19         30001 non-null  object\n",
            " 20  X20         30001 non-null  object\n",
            " 21  X21         30001 non-null  object\n",
            " 22  X22         30001 non-null  object\n",
            " 23  X23         30001 non-null  object\n",
            " 24  Y           30001 non-null  object\n",
            "dtypes: object(25)\n",
            "memory usage: 5.7+ MB\n"
          ]
        }
      ]
    },
    {
      "cell_type": "code",
      "source": [
        "from google.colab import drive\n",
        "drive.mount('/content/drive')"
      ],
      "metadata": {
        "id": "wihe5wdmrR0t"
      },
      "execution_count": null,
      "outputs": []
    },
    {
      "cell_type": "markdown",
      "source": [
        "## Análisis Exploratorio de Datos (EDA)"
      ],
      "metadata": {
        "id": "Y9i-nEnwi06H"
      }
    },
    {
      "cell_type": "markdown",
      "source": [
        "## Preparación y Transformación de lo Datos"
      ],
      "metadata": {
        "id": "NLmPCNKMi40X"
      }
    },
    {
      "cell_type": "markdown",
      "source": [
        "## Modelado Predictivo"
      ],
      "metadata": {
        "id": "bI9jZvg6i93j"
      }
    },
    {
      "cell_type": "markdown",
      "source": [
        "## Evaluación de Resultados"
      ],
      "metadata": {
        "id": "WYNBLfk7jNGX"
      }
    },
    {
      "cell_type": "markdown",
      "source": [
        "## Propuesta de Productivización"
      ],
      "metadata": {
        "id": "at-jp3B6jRbr"
      }
    },
    {
      "cell_type": "markdown",
      "source": [
        "## Conclusiones y Recomendaciones"
      ],
      "metadata": {
        "id": "B0A4ByMWjVsU"
      }
    },
    {
      "cell_type": "markdown",
      "source": [
        "## Bibliografía\n",
        "Lichman, M. (2013). UCI Machine Learning Repository. University of California, Irvine, School of Information and Computer Science. Recuperado de http://archive.ics.uci.edu/ml"
      ],
      "metadata": {
        "id": "WI_Y_vv6kv4l"
      }
    }
  ]
}